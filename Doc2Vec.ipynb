{
 "cells": [
  {
   "cell_type": "code",
   "execution_count": 1,
   "id": "6af5de8c",
   "metadata": {},
   "outputs": [
    {
     "name": "stderr",
     "output_type": "stream",
     "text": [
      "/home/kprasath/anaconda3/envs/tf/lib/python3.10/site-packages/tqdm/auto.py:21: TqdmWarning: IProgress not found. Please update jupyter and ipywidgets. See https://ipywidgets.readthedocs.io/en/stable/user_install.html\n",
      "  from .autonotebook import tqdm as notebook_tqdm\n"
     ]
    }
   ],
   "source": [
    "import pandas as pd\n",
    "import numpy as np\n",
    "import pyreadstat\n",
    "\n",
    "from docx import Document\n",
    "from nltk.tokenize import word_tokenize, sent_tokenize\n",
    "from nltk.corpus import stopwords\n",
    "from nltk import FreqDist, ngrams\n",
    "from sklearn.feature_extraction.text import TfidfVectorizer\n",
    "from sklearn.decomposition import LatentDirichletAllocation\n",
    "import re\n",
    "import nltk\n",
    "\n",
    "from sklearn.model_selection import train_test_split\n",
    "from sklearn.preprocessing import OneHotEncoder\n",
    "from sklearn.ensemble import RandomForestRegressor\n",
    "from sklearn.linear_model import LinearRegression\n",
    "from sklearn.linear_model import LogisticRegression\n",
    "from sklearn.metrics import mean_squared_error, r2_score\n",
    "\n",
    "import seaborn as sns\n",
    "import matplotlib.pyplot as plt\n",
    "from wordcloud import WordCloud\n",
    "\n",
    "import dowhy\n",
    "from dowhy import CausalModel\n",
    "import networkx as nx\n",
    "from pgmpy.estimators import PC\n",
    "\n",
    "from collections import Counter\n",
    "import os\n"
   ]
  },
  {
   "cell_type": "code",
   "execution_count": 2,
   "id": "c10e9808",
   "metadata": {},
   "outputs": [],
   "source": [
    "from gensim.models import Doc2Vec\n",
    "from gensim.models.doc2vec import TaggedDocument"
   ]
  },
  {
   "cell_type": "code",
   "execution_count": 3,
   "id": "913d43ec",
   "metadata": {},
   "outputs": [],
   "source": [
    "# Function to read a single text file\n",
    "def read_txt(file_path):\n",
    "    with open(file_path, 'r', encoding='utf-8', errors='ignore') as file:\n",
    "        text = file.read()\n",
    "    return text\n",
    "\n",
    "# Function to read all text files in a directory\n",
    "def read_all_txt_files(directory):\n",
    "    file_texts = {}\n",
    "    for filename in os.listdir(directory):\n",
    "        if filename.endswith('.txt'):\n",
    "            file_id = filename.split('.')[0]\n",
    "            file_path = os.path.join(directory, filename)\n",
    "            file_texts[file_id] = read_txt(file_path)\n",
    "    return file_texts\n",
    "\n",
    "# Reading the Stata file\n",
    "df, meta = pyreadstat.read_dta('rs_netsales.dta')\n",
    "\n",
    "# Further selection and copying\n",
    "selected_features = [\n",
    "    'royaltyrate', 'tier', 'sic', 'duration', 'territory',\n",
    "    'naics1', 'template', 'year', 'worldwide', 'market_gdp', 'ref'  # Adding 'ref' here\n",
    "]\n",
    "df_model1 = df[selected_features].copy()"
   ]
  },
  {
   "cell_type": "code",
   "execution_count": 4,
   "id": "604ecd49",
   "metadata": {},
   "outputs": [
    {
     "name": "stdout",
     "output_type": "stream",
     "text": [
      "CPU times: user 33 ms, sys: 20.6 ms, total: 53.6 ms\n",
      "Wall time: 53.2 ms\n"
     ]
    }
   ],
   "source": [
    "%%time\n",
    "\n",
    "# Read text files from all directories\n",
    "directories = ['/home/kprasath/DS/NLPInternship/txt_data/ref_1_txt',\n",
    "               '/home/kprasath/DS/NLPInternship/txt_data/ref_2_txt',\n",
    "               '/home/kprasath/DS/NLPInternship/txt_data/ref_3_txt']\n",
    "\n",
    "all_texts = {}\n",
    "for directory in directories:\n",
    "    all_texts.update(read_all_txt_files(directory))\n",
    "\n",
    "# Match text files to DataFrame records\n",
    "df_model1['contract_text'] = df_model1['ref'].apply(lambda x: all_texts.get(str(x)[1:], None))  # Removing 'L' and matching"
   ]
  },
  {
   "cell_type": "code",
   "execution_count": 5,
   "id": "f06f4006",
   "metadata": {},
   "outputs": [],
   "source": [
    "# Using lambda function to remove 'L' and match\n",
    "df_model1['contract_text'] = df_model1['ref'].apply(lambda x: all_texts.get(str(x)[1:], None))\n"
   ]
  },
  {
   "cell_type": "code",
   "execution_count": 6,
   "id": "5001189b",
   "metadata": {},
   "outputs": [
    {
     "data": {
      "text/html": [
       "<div>\n",
       "<style scoped>\n",
       "    .dataframe tbody tr th:only-of-type {\n",
       "        vertical-align: middle;\n",
       "    }\n",
       "\n",
       "    .dataframe tbody tr th {\n",
       "        vertical-align: top;\n",
       "    }\n",
       "\n",
       "    .dataframe thead th {\n",
       "        text-align: right;\n",
       "    }\n",
       "</style>\n",
       "<table border=\"1\" class=\"dataframe\">\n",
       "  <thead>\n",
       "    <tr style=\"text-align: right;\">\n",
       "      <th></th>\n",
       "      <th>royaltyrate</th>\n",
       "      <th>tier</th>\n",
       "      <th>sic</th>\n",
       "      <th>duration</th>\n",
       "      <th>territory</th>\n",
       "      <th>naics1</th>\n",
       "      <th>template</th>\n",
       "      <th>year</th>\n",
       "      <th>worldwide</th>\n",
       "      <th>market_gdp</th>\n",
       "      <th>ref</th>\n",
       "      <th>contract_text</th>\n",
       "    </tr>\n",
       "  </thead>\n",
       "  <tbody>\n",
       "    <tr>\n",
       "      <th>0</th>\n",
       "      <td>15.0</td>\n",
       "      <td>0.0</td>\n",
       "      <td>7389</td>\n",
       "      <td>1.0</td>\n",
       "      <td>China</td>\n",
       "      <td>81232</td>\n",
       "      <td>0</td>\n",
       "      <td>2007.0</td>\n",
       "      <td>0.0</td>\n",
       "      <td>3.571650</td>\n",
       "      <td>L12019</td>\n",
       "      <td>None</td>\n",
       "    </tr>\n",
       "    <tr>\n",
       "      <th>1</th>\n",
       "      <td>10.0</td>\n",
       "      <td>7.5</td>\n",
       "      <td>2833</td>\n",
       "      <td>20.0</td>\n",
       "      <td>Worldwide</td>\n",
       "      <td>325411</td>\n",
       "      <td>0</td>\n",
       "      <td>2011.0</td>\n",
       "      <td>1.0</td>\n",
       "      <td>72.372734</td>\n",
       "      <td>L21920</td>\n",
       "      <td>None</td>\n",
       "    </tr>\n",
       "    <tr>\n",
       "      <th>2</th>\n",
       "      <td>7.0</td>\n",
       "      <td>0.0</td>\n",
       "      <td>2860</td>\n",
       "      <td>99.0</td>\n",
       "      <td>Worldwide</td>\n",
       "      <td></td>\n",
       "      <td>0</td>\n",
       "      <td>2012.0</td>\n",
       "      <td>1.0</td>\n",
       "      <td>73.673370</td>\n",
       "      <td>L25039</td>\n",
       "      <td>None</td>\n",
       "    </tr>\n",
       "    <tr>\n",
       "      <th>3</th>\n",
       "      <td>7.0</td>\n",
       "      <td>0.0</td>\n",
       "      <td>7389</td>\n",
       "      <td>35.0</td>\n",
       "      <td>United States</td>\n",
       "      <td>81232</td>\n",
       "      <td>1</td>\n",
       "      <td>2007.0</td>\n",
       "      <td>0.0</td>\n",
       "      <td>14.477625</td>\n",
       "      <td>L27526</td>\n",
       "      <td>None</td>\n",
       "    </tr>\n",
       "    <tr>\n",
       "      <th>4</th>\n",
       "      <td>1.0</td>\n",
       "      <td>0.0</td>\n",
       "      <td>3841</td>\n",
       "      <td>99.0</td>\n",
       "      <td>Unknown</td>\n",
       "      <td>339111</td>\n",
       "      <td>0</td>\n",
       "      <td>2010.0</td>\n",
       "      <td>0.0</td>\n",
       "      <td>0.000000</td>\n",
       "      <td>L21714</td>\n",
       "      <td>None</td>\n",
       "    </tr>\n",
       "  </tbody>\n",
       "</table>\n",
       "</div>"
      ],
      "text/plain": [
       "   royaltyrate  tier   sic  duration      territory  naics1  template    year  \\\n",
       "0         15.0   0.0  7389       1.0          China   81232         0  2007.0   \n",
       "1         10.0   7.5  2833      20.0      Worldwide  325411         0  2011.0   \n",
       "2          7.0   0.0  2860      99.0      Worldwide                 0  2012.0   \n",
       "3          7.0   0.0  7389      35.0  United States   81232         1  2007.0   \n",
       "4          1.0   0.0  3841      99.0        Unknown  339111         0  2010.0   \n",
       "\n",
       "   worldwide  market_gdp     ref contract_text  \n",
       "0        0.0    3.571650  L12019          None  \n",
       "1        1.0   72.372734  L21920          None  \n",
       "2        1.0   73.673370  L25039          None  \n",
       "3        0.0   14.477625  L27526          None  \n",
       "4        0.0    0.000000  L21714          None  "
      ]
     },
     "execution_count": 6,
     "metadata": {},
     "output_type": "execute_result"
    }
   ],
   "source": [
    "df_model1.head()"
   ]
  },
  {
   "cell_type": "code",
   "execution_count": 7,
   "id": "48960589",
   "metadata": {},
   "outputs": [],
   "source": [
    "def filter_rows_with_text(df):\n",
    "    \"\"\"\n",
    "    Filters out rows where the contract_text column contains None.\n",
    "    \n",
    "    Parameters:\n",
    "        df (pandas.DataFrame): The DataFrame to filter.\n",
    "        \n",
    "    Returns:\n",
    "        pandas.DataFrame: A new DataFrame containing only rows with text data in the contract_text column.\n",
    "    \"\"\"\n",
    "    # Drop rows where 'contract_text' is None\n",
    "    df_filtered = df.dropna(subset=['contract_text'])\n",
    "    \n",
    "    return df_filtered\n",
    "\n",
    "# Usage example:\n",
    "df_model1_filtered = filter_rows_with_text(df_model1)\n"
   ]
  },
  {
   "cell_type": "code",
   "execution_count": 8,
   "id": "24c3088d",
   "metadata": {},
   "outputs": [
    {
     "data": {
      "text/html": [
       "<div>\n",
       "<style scoped>\n",
       "    .dataframe tbody tr th:only-of-type {\n",
       "        vertical-align: middle;\n",
       "    }\n",
       "\n",
       "    .dataframe tbody tr th {\n",
       "        vertical-align: top;\n",
       "    }\n",
       "\n",
       "    .dataframe thead th {\n",
       "        text-align: right;\n",
       "    }\n",
       "</style>\n",
       "<table border=\"1\" class=\"dataframe\">\n",
       "  <thead>\n",
       "    <tr style=\"text-align: right;\">\n",
       "      <th></th>\n",
       "      <th>royaltyrate</th>\n",
       "      <th>tier</th>\n",
       "      <th>sic</th>\n",
       "      <th>duration</th>\n",
       "      <th>territory</th>\n",
       "      <th>naics1</th>\n",
       "      <th>template</th>\n",
       "      <th>year</th>\n",
       "      <th>worldwide</th>\n",
       "      <th>market_gdp</th>\n",
       "      <th>ref</th>\n",
       "      <th>contract_text</th>\n",
       "    </tr>\n",
       "  </thead>\n",
       "  <tbody>\n",
       "    <tr>\n",
       "      <th>507</th>\n",
       "      <td>20.0</td>\n",
       "      <td>10.0</td>\n",
       "      <td>2834</td>\n",
       "      <td>20.0</td>\n",
       "      <td>Worldwide</td>\n",
       "      <td>325412</td>\n",
       "      <td>0</td>\n",
       "      <td>2006.0</td>\n",
       "      <td>1.0</td>\n",
       "      <td>50.955288</td>\n",
       "      <td>L31513</td>\n",
       "      <td>\\nTop of Form\\n\\n\\n\\n\\n\\nType: EX-10.1 Descrip...</td>\n",
       "    </tr>\n",
       "    <tr>\n",
       "      <th>508</th>\n",
       "      <td>2.0</td>\n",
       "      <td>0.0</td>\n",
       "      <td>2821</td>\n",
       "      <td>20.0</td>\n",
       "      <td>Worldwide</td>\n",
       "      <td>325211</td>\n",
       "      <td>0</td>\n",
       "      <td>2006.0</td>\n",
       "      <td>1.0</td>\n",
       "      <td>50.955288</td>\n",
       "      <td>L9528</td>\n",
       "      <td>Top of Form\\n\\n\\n ",
       " ",
       "Type: EX-10.63 Description:...</td>\n",
       "    </tr>\n",
       "    <tr>\n",
       "      <th>510</th>\n",
       "      <td>30.0</td>\n",
       "      <td>20.0</td>\n",
       "      <td>2836</td>\n",
       "      <td>20.0</td>\n",
       "      <td>Afghanistan; Bangladesh; Bhutan; Brunei; Cambo...</td>\n",
       "      <td>325414</td>\n",
       "      <td>0</td>\n",
       "      <td>2008.0</td>\n",
       "      <td>0.0</td>\n",
       "      <td>7.985790</td>\n",
       "      <td>L30380</td>\n",
       "      <td>DEVELOPMENT AND COMMERCIALIZATION AGREEMENT\\n...</td>\n",
       "    </tr>\n",
       "    <tr>\n",
       "      <th>511</th>\n",
       "      <td>5.0</td>\n",
       "      <td>0.0</td>\n",
       "      <td>3826</td>\n",
       "      <td>20.0</td>\n",
       "      <td>Worldwide</td>\n",
       "      <td>334516</td>\n",
       "      <td>0</td>\n",
       "      <td>2008.0</td>\n",
       "      <td>1.0</td>\n",
       "      <td>63.079880</td>\n",
       "      <td>L31791</td>\n",
       "      <td>CK~~~I~If~3~~II~1~:~Illl1~~T11~u~~~~\\nExhibit ...</td>\n",
       "    </tr>\n",
       "    <tr>\n",
       "      <th>512</th>\n",
       "      <td>2.0</td>\n",
       "      <td>0.0</td>\n",
       "      <td>3826</td>\n",
       "      <td>20.0</td>\n",
       "      <td>Worldwide</td>\n",
       "      <td>334516</td>\n",
       "      <td>0</td>\n",
       "      <td>2006.0</td>\n",
       "      <td>1.0</td>\n",
       "      <td>50.955288</td>\n",
       "      <td>L12805</td>\n",
       "      <td>Top of Form\\n\\n\\n ",
       " ",
       "Type: EX-10.13 Description:...</td>\n",
       "    </tr>\n",
       "  </tbody>\n",
       "</table>\n",
       "</div>"
      ],
      "text/plain": [
       "     royaltyrate  tier   sic  duration  \\\n",
       "507         20.0  10.0  2834      20.0   \n",
       "508          2.0   0.0  2821      20.0   \n",
       "510         30.0  20.0  2836      20.0   \n",
       "511          5.0   0.0  3826      20.0   \n",
       "512          2.0   0.0  3826      20.0   \n",
       "\n",
       "                                             territory  naics1  template  \\\n",
       "507                                          Worldwide  325412         0   \n",
       "508                                          Worldwide  325211         0   \n",
       "510  Afghanistan; Bangladesh; Bhutan; Brunei; Cambo...  325414         0   \n",
       "511                                          Worldwide  334516         0   \n",
       "512                                          Worldwide  334516         0   \n",
       "\n",
       "       year  worldwide  market_gdp     ref  \\\n",
       "507  2006.0        1.0   50.955288  L31513   \n",
       "508  2006.0        1.0   50.955288   L9528   \n",
       "510  2008.0        0.0    7.985790  L30380   \n",
       "511  2008.0        1.0   63.079880  L31791   \n",
       "512  2006.0        1.0   50.955288  L12805   \n",
       "\n",
       "                                         contract_text  \n",
       "507  \\nTop of Form\\n\\n\\n\\n\\n\\nType: EX-10.1 Descrip...  \n",
       "508  Top of Form\\n\\n\\n\n",
       "\n",
       "Type: EX-10.63 Description:...  \n",
       "510   DEVELOPMENT AND COMMERCIALIZATION AGREEMENT\\n...  \n",
       "511  CK~~~I~If~3~~II~1~:~Illl1~~T11~u~~~~\\nExhibit ...  \n",
       "512  Top of Form\\n\\n\\n\n",
       "\n",
       "Type: EX-10.13 Description:...  "
      ]
     },
     "execution_count": 8,
     "metadata": {},
     "output_type": "execute_result"
    }
   ],
   "source": [
    "df_model1_filtered.head()"
   ]
  },
  {
   "cell_type": "code",
   "execution_count": 9,
   "id": "33386d83",
   "metadata": {},
   "outputs": [
    {
     "name": "stderr",
     "output_type": "stream",
     "text": [
      "[nltk_data] Downloading package stopwords to\n",
      "[nltk_data]     /home/kprasath/nltk_data...\n",
      "[nltk_data]   Package stopwords is already up-to-date!\n"
     ]
    }
   ],
   "source": [
    "# Download the stopwords from nltk\n",
    "nltk.download('stopwords')\n",
    "stop_words = set(stopwords.words('english'))\n",
    "\n",
    "new_stopwords = [\"all\", \"due\", \"to\", \"on\", \"daily\",\"b\"]\n",
    "\n",
    "stop_words.update(new_stopwords)"
   ]
  },
  {
   "cell_type": "code",
   "execution_count": 10,
   "id": "80218217",
   "metadata": {},
   "outputs": [
    {
     "name": "stderr",
     "output_type": "stream",
     "text": [
      "/tmp/ipykernel_9132/1935274378.py:26: SettingWithCopyWarning: \n",
      "A value is trying to be set on a copy of a slice from a DataFrame.\n",
      "Try using .loc[row_indexer,col_indexer] = value instead\n",
      "\n",
      "See the caveats in the documentation: https://pandas.pydata.org/pandas-docs/stable/user_guide/indexing.html#returning-a-view-versus-a-copy\n",
      "  df_model1_filtered['processed_text'] = df_model1_filtered['contract_text'].apply(preprocess_text)\n"
     ]
    }
   ],
   "source": [
    "\n",
    "\n",
    "def preprocess_text(text):\n",
    "    \"\"\"\n",
    "    Preprocesses the given text by applying tokenization, lowercasing, stopword and special character removal.\n",
    "    \n",
    "    Parameters:\n",
    "        text (str): The text to preprocess.\n",
    "        \n",
    "    Returns:\n",
    "        str: The preprocessed text.\n",
    "    \"\"\"\n",
    "    # Tokenization and lowercasing\n",
    "    tokens = nltk.word_tokenize(text.lower())\n",
    "    \n",
    "    # Stopword Removal\n",
    "    tokens = [word for word in tokens if word not in stop_words]\n",
    "    \n",
    "    # Special Character Removal\n",
    "    tokens = [re.sub(r'\\W+', '', word) for word in tokens]\n",
    "    \n",
    "    # Removing tokens that are now empty after special character removal\n",
    "    tokens = [word for word in tokens if word]\n",
    "    \n",
    "    return ' '.join(tokens)\n",
    "\n",
    "# Apply text preprocessing to each contract text\n",
    "df_model1_filtered['processed_text'] = df_model1_filtered['contract_text'].apply(preprocess_text)"
   ]
  },
  {
   "cell_type": "markdown",
   "id": "469c5c97",
   "metadata": {},
   "source": [
    "# Dov 2 Vec"
   ]
  },
  {
   "cell_type": "code",
   "execution_count": 11,
   "id": "213ebc92",
   "metadata": {},
   "outputs": [
    {
     "data": {
      "text/html": [
       "<div>\n",
       "<style scoped>\n",
       "    .dataframe tbody tr th:only-of-type {\n",
       "        vertical-align: middle;\n",
       "    }\n",
       "\n",
       "    .dataframe tbody tr th {\n",
       "        vertical-align: top;\n",
       "    }\n",
       "\n",
       "    .dataframe thead th {\n",
       "        text-align: right;\n",
       "    }\n",
       "</style>\n",
       "<table border=\"1\" class=\"dataframe\">\n",
       "  <thead>\n",
       "    <tr style=\"text-align: right;\">\n",
       "      <th></th>\n",
       "      <th>royaltyrate</th>\n",
       "      <th>tier</th>\n",
       "      <th>sic</th>\n",
       "      <th>duration</th>\n",
       "      <th>territory</th>\n",
       "      <th>naics1</th>\n",
       "      <th>template</th>\n",
       "      <th>year</th>\n",
       "      <th>worldwide</th>\n",
       "      <th>market_gdp</th>\n",
       "      <th>ref</th>\n",
       "      <th>contract_text</th>\n",
       "      <th>processed_text</th>\n",
       "    </tr>\n",
       "  </thead>\n",
       "  <tbody>\n",
       "    <tr>\n",
       "      <th>507</th>\n",
       "      <td>20.0</td>\n",
       "      <td>10.0</td>\n",
       "      <td>2834</td>\n",
       "      <td>20.0</td>\n",
       "      <td>Worldwide</td>\n",
       "      <td>325412</td>\n",
       "      <td>0</td>\n",
       "      <td>2006.0</td>\n",
       "      <td>1.0</td>\n",
       "      <td>50.955288</td>\n",
       "      <td>L31513</td>\n",
       "      <td>\\nTop of Form\\n\\n\\n\\n\\n\\nType: EX-10.1 Descrip...</td>\n",
       "      <td>top form type ex101 description ex101 enanta r...</td>\n",
       "    </tr>\n",
       "    <tr>\n",
       "      <th>508</th>\n",
       "      <td>2.0</td>\n",
       "      <td>0.0</td>\n",
       "      <td>2821</td>\n",
       "      <td>20.0</td>\n",
       "      <td>Worldwide</td>\n",
       "      <td>325211</td>\n",
       "      <td>0</td>\n",
       "      <td>2006.0</td>\n",
       "      <td>1.0</td>\n",
       "      <td>50.955288</td>\n",
       "      <td>L9528</td>\n",
       "      <td>Top of Form\\n\\n\\n ",
       " ",
       "Type: EX-10.63 Description:...</td>\n",
       "      <td>top form type ex1063 description exhibit 1063 ...</td>\n",
       "    </tr>\n",
       "    <tr>\n",
       "      <th>510</th>\n",
       "      <td>30.0</td>\n",
       "      <td>20.0</td>\n",
       "      <td>2836</td>\n",
       "      <td>20.0</td>\n",
       "      <td>Afghanistan; Bangladesh; Bhutan; Brunei; Cambo...</td>\n",
       "      <td>325414</td>\n",
       "      <td>0</td>\n",
       "      <td>2008.0</td>\n",
       "      <td>0.0</td>\n",
       "      <td>7.985790</td>\n",
       "      <td>L30380</td>\n",
       "      <td>DEVELOPMENT AND COMMERCIALIZATION AGREEMENT\\n...</td>\n",
       "      <td>development commercialization agreement wyeth ...</td>\n",
       "    </tr>\n",
       "    <tr>\n",
       "      <th>511</th>\n",
       "      <td>5.0</td>\n",
       "      <td>0.0</td>\n",
       "      <td>3826</td>\n",
       "      <td>20.0</td>\n",
       "      <td>Worldwide</td>\n",
       "      <td>334516</td>\n",
       "      <td>0</td>\n",
       "      <td>2008.0</td>\n",
       "      <td>1.0</td>\n",
       "      <td>63.079880</td>\n",
       "      <td>L31791</td>\n",
       "      <td>CK~~~I~If~3~~II~1~:~Illl1~~T11~u~~~~\\nExhibit ...</td>\n",
       "      <td>ckiif3ii1 illl1t11u exhibit research option ag...</td>\n",
       "    </tr>\n",
       "    <tr>\n",
       "      <th>512</th>\n",
       "      <td>2.0</td>\n",
       "      <td>0.0</td>\n",
       "      <td>3826</td>\n",
       "      <td>20.0</td>\n",
       "      <td>Worldwide</td>\n",
       "      <td>334516</td>\n",
       "      <td>0</td>\n",
       "      <td>2006.0</td>\n",
       "      <td>1.0</td>\n",
       "      <td>50.955288</td>\n",
       "      <td>L12805</td>\n",
       "      <td>Top of Form\\n\\n\\n ",
       " ",
       "Type: EX-10.13 Description:...</td>\n",
       "      <td>top form type ex1013 description exhibit 1013 ...</td>\n",
       "    </tr>\n",
       "  </tbody>\n",
       "</table>\n",
       "</div>"
      ],
      "text/plain": [
       "     royaltyrate  tier   sic  duration  \\\n",
       "507         20.0  10.0  2834      20.0   \n",
       "508          2.0   0.0  2821      20.0   \n",
       "510         30.0  20.0  2836      20.0   \n",
       "511          5.0   0.0  3826      20.0   \n",
       "512          2.0   0.0  3826      20.0   \n",
       "\n",
       "                                             territory  naics1  template  \\\n",
       "507                                          Worldwide  325412         0   \n",
       "508                                          Worldwide  325211         0   \n",
       "510  Afghanistan; Bangladesh; Bhutan; Brunei; Cambo...  325414         0   \n",
       "511                                          Worldwide  334516         0   \n",
       "512                                          Worldwide  334516         0   \n",
       "\n",
       "       year  worldwide  market_gdp     ref  \\\n",
       "507  2006.0        1.0   50.955288  L31513   \n",
       "508  2006.0        1.0   50.955288   L9528   \n",
       "510  2008.0        0.0    7.985790  L30380   \n",
       "511  2008.0        1.0   63.079880  L31791   \n",
       "512  2006.0        1.0   50.955288  L12805   \n",
       "\n",
       "                                         contract_text  \\\n",
       "507  \\nTop of Form\\n\\n\\n\\n\\n\\nType: EX-10.1 Descrip...   \n",
       "508  Top of Form\\n\\n\\n\n",
       "\n",
       "Type: EX-10.63 Description:...   \n",
       "510   DEVELOPMENT AND COMMERCIALIZATION AGREEMENT\\n...   \n",
       "511  CK~~~I~If~3~~II~1~:~Illl1~~T11~u~~~~\\nExhibit ...   \n",
       "512  Top of Form\\n\\n\\n\n",
       "\n",
       "Type: EX-10.13 Description:...   \n",
       "\n",
       "                                        processed_text  \n",
       "507  top form type ex101 description ex101 enanta r...  \n",
       "508  top form type ex1063 description exhibit 1063 ...  \n",
       "510  development commercialization agreement wyeth ...  \n",
       "511  ckiif3ii1 illl1t11u exhibit research option ag...  \n",
       "512  top form type ex1013 description exhibit 1013 ...  "
      ]
     },
     "execution_count": 11,
     "metadata": {},
     "output_type": "execute_result"
    }
   ],
   "source": [
    "df_model1_filtered.head()"
   ]
  },
  {
   "cell_type": "code",
   "execution_count": 12,
   "id": "704c36c6",
   "metadata": {},
   "outputs": [
    {
     "data": {
      "text/plain": [
       "<Axes: >"
      ]
     },
     "execution_count": 12,
     "metadata": {},
     "output_type": "execute_result"
    },
    {
     "data": {
      "image/png": "[encoded data removed]",
      "text/plain": [
       "<Figure size 640x480 with 1 Axes>"
      ]
     },
     "metadata": {},
     "output_type": "display_data"
    }
   ],
   "source": [
    "df_model1_filtered.royaltyrate.hist()"
   ]
  },
  {
   "cell_type": "code",
   "execution_count": 13,
   "id": "1a4827fc",
   "metadata": {},
   "outputs": [
    {
     "data": {
      "image/png": "[encoded data removed]",
      "text/latex": [
       "$\\displaystyle \\left( 331, \\  13\\right)$"
      ],
      "text/plain": [
       "(331, 13)"
      ]
     },
     "execution_count": 13,
     "metadata": {},
     "output_type": "execute_result"
    }
   ],
   "source": [
    "df_model1_filtered.shape"
   ]
  },
  {
   "cell_type": "code",
   "execution_count": 20,
   "id": "52f1d962",
   "metadata": {},
   "outputs": [],
   "source": [
    "# Your existing code for creating TaggedDocument objects and splitting data\n",
    "tagged_data = [TaggedDocument(words=word_tokenize(_d.lower()), tags=[str(i)]) for i, _d in enumerate(df_model1_filtered['processed_text'])]\n",
    "\n",
    "# Split the DataFrame first\n",
    "train_df, test_df = train_test_split(df_model1_filtered, test_size=0.2, random_state=42)\n",
    "\n",
    "# Extract tagged documents\n",
    "train_tagged = [TaggedDocument(words=word_tokenize(_d.lower()), tags=[str(i)]) for i, _d in enumerate(train_df['processed_text'])]\n",
    "test_tagged = [TaggedDocument(words=word_tokenize(_d.lower()), tags=[str(i)]) for i, _d in enumerate(test_df['processed_text'])]\n",
    "\n",
    "# Extract labels\n",
    "train_labels = train_df['royaltyrate'].values\n",
    "test_labels = test_df['royaltyrate'].values"
   ]
  },
  {
   "cell_type": "code",
   "execution_count": 21,
   "id": "51743197",
   "metadata": {},
   "outputs": [
    {
     "name": "stdout",
     "output_type": "stream",
     "text": [
      "CPU times: user 3min 31s, sys: 462 ms, total: 3min 32s\n",
      "Wall time: 58.7 s\n"
     ]
    }
   ],
   "source": [
    "%%time\n",
    "model = Doc2Vec(vector_size=20, window=2, min_count=1, workers=4, epochs=100)\n",
    "model.build_vocab(train_tagged)  # Changed from train_data to train_tagged\n",
    "model.train(train_tagged, total_examples=model.corpus_count, epochs=model.epochs)  # Changed from train_data to train_tagged"
   ]
  },
  {
   "cell_type": "code",
   "execution_count": 23,
   "id": "0998fa43",
   "metadata": {},
   "outputs": [
    {
     "name": "stdout",
     "output_type": "stream",
     "text": [
      "CPU times: user 3min 9s, sys: 694 µs, total: 3min 9s\n",
      "Wall time: 3min 9s\n"
     ]
    }
   ],
   "source": [
    "%%time\n",
    "\n",
    "train_vectors = [model.infer_vector(doc.words) for doc in train_tagged]\n",
    "test_vectors = [model.infer_vector(doc.words) for doc in test_tagged]\n"
   ]
  },
  {
   "cell_type": "code",
   "execution_count": 27,
   "id": "ae7d68a8",
   "metadata": {},
   "outputs": [
    {
     "data": {
      "text/plain": [
       "RandomForestRegressor()"
      ]
     },
     "execution_count": 27,
     "metadata": {},
     "output_type": "execute_result"
    }
   ],
   "source": [
    "from sklearn.ensemble import RandomForestRegressor\n",
    "\n",
    "clf = RandomForestRegressor()\n",
    "clf.fit(train_vectors, train_labels)\n"
   ]
  },
  {
   "cell_type": "code",
   "execution_count": 29,
   "id": "bcdb3ea3",
   "metadata": {},
   "outputs": [
    {
     "name": "stdout",
     "output_type": "stream",
     "text": [
      "Mean Absolute Error: 7.258137313432835\n",
      "Mean Squared Error: 159.93995485343282\n",
      "Root Mean Squared Error: 12.646736925129455\n",
      "R-squared: 0.10499358110379231\n"
     ]
    }
   ],
   "source": [
    "from sklearn.metrics import mean_absolute_error, mean_squared_error, r2_score\n",
    "import numpy as np\n",
    "\n",
    "# Predict on test data\n",
    "preds = clf.predict(test_vectors)\n",
    "\n",
    "# Evaluate the model\n",
    "mae = mean_absolute_error(test_labels, preds)\n",
    "mse = mean_squared_error(test_labels, preds)\n",
    "rmse = np.sqrt(mse)\n",
    "r2 = r2_score(test_labels, preds)\n",
    "\n",
    "print(f\"Mean Absolute Error: {mae}\")\n",
    "print(f\"Mean Squared Error: {mse}\")\n",
    "print(f\"Root Mean Squared Error: {rmse}\")\n",
    "print(f\"R-squared: {r2}\")\n"
   ]
  },
  {
   "cell_type": "markdown",
   "id": "36bc51bf",
   "metadata": {},
   "source": [
    "# Notes:\n",
    "\n",
    "- PCA/PFA/VIF\n",
    "- relationship contract length x royalaty\n",
    "- risk"
   ]
  },
  {
   "cell_type": "code",
   "execution_count": null,
   "id": "8142affe",
   "metadata": {},
   "outputs": [],
   "source": []
  }
 ],
 "metadata": {
  "kernelspec": {
   "display_name": "Python 3 (ipykernel)",
   "language": "python",
   "name": "python3"
  },
  "language_info": {
   "codemirror_mode": {
    "name": "ipython",
    "version": 3
   },
   "file_extension": ".py",
   "mimetype": "text/x-python",
   "name": "python",
   "nbconvert_exporter": "python",
   "pygments_lexer": "ipython3",
   "version": "3.10.9"
  }
 },
 "nbformat": 4,
 "nbformat_minor": 5
}
